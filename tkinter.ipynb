{
 "cells": [
  {
   "cell_type": "markdown",
   "id": "5788c78c",
   "metadata": {},
   "source": [
    "## Tkinter "
   ]
  },
  {
   "cell_type": "markdown",
   "id": "1bd4adc2",
   "metadata": {},
   "source": [
    "### Simple Gui"
   ]
  },
  {
   "cell_type": "code",
   "execution_count": 13,
   "id": "55ceb305",
   "metadata": {},
   "outputs": [],
   "source": [
    "from tkinter import *\n",
    "\n",
    "root = Tk()\n",
    "\n",
    "myLabel = Label(root, text=\"Hello World\")\n",
    "\n",
    "myLabel.pack()\n",
    "\n",
    "root.mainloop()"
   ]
  },
  {
   "cell_type": "markdown",
   "id": "f276b0b1",
   "metadata": {},
   "source": [
    "## Grid\n"
   ]
  },
  {
   "cell_type": "code",
   "execution_count": 16,
   "id": "a3d70b98",
   "metadata": {},
   "outputs": [],
   "source": [
    "from tkinter import *\n",
    "\n",
    "root = Tk()\n",
    "\n",
    "myLabel = Label(root, text=\"Hello World\")\n",
    "myLabe2 = Label(root, text=\"Second Label\")\n",
    "\n",
    "\n",
    "myLabel.grid(row=0,column=0)\n",
    "myLabe2.grid(row=1,column=1)\n",
    "\n",
    "root.mainloop()"
   ]
  },
  {
   "cell_type": "markdown",
   "id": "e2bb28f1",
   "metadata": {},
   "source": [
    "### Grid "
   ]
  },
  {
   "cell_type": "code",
   "execution_count": 17,
   "id": "e456786a",
   "metadata": {},
   "outputs": [],
   "source": [
    "from tkinter import *\n",
    "\n",
    "root = Tk()\n",
    "\n",
    "myLabel = Label(root, text=\"Hello World\").grid(row=0,column=0)\n",
    "myLabe2 = Label(root, text=\"Second Label\").grid(row=1,column=1)\n",
    "\n",
    "\n",
    "root.mainloop()"
   ]
  },
  {
   "cell_type": "markdown",
   "id": "1228b7e6",
   "metadata": {},
   "source": [
    "### Button"
   ]
  },
  {
   "cell_type": "code",
   "execution_count": 19,
   "id": "11ba1afb",
   "metadata": {},
   "outputs": [],
   "source": [
    "from tkinter import *\n",
    "\n",
    "root = Tk()\n",
    "\n",
    "myButton = Button(root, text=\"Click Me\", padx=50, pady=50).pack()\n",
    "\n",
    "root.mainloop()"
   ]
  },
  {
   "cell_type": "markdown",
   "id": "d49b1792",
   "metadata": {},
   "source": [
    "## Function to button"
   ]
  },
  {
   "cell_type": "code",
   "execution_count": 24,
   "id": "2c8d8dec",
   "metadata": {},
   "outputs": [],
   "source": [
    "from tkinter import *\n",
    "\n",
    "root = Tk()\n",
    "\n",
    "def myClick():\n",
    "    myLabel = Label(root,text=\"You clicked on Me\")\n",
    "    myLabel.pack()\n",
    "\n",
    "myButton = Button(root,text=\"Click Me\",command=myClick)\n",
    "myButton.pack()\n",
    "\n",
    "root.mainloop()"
   ]
  },
  {
   "cell_type": "markdown",
   "id": "7d3c7eba",
   "metadata": {},
   "source": [
    "## Entry Widget"
   ]
  },
  {
   "cell_type": "code",
   "execution_count": 36,
   "id": "ea4d49e4",
   "metadata": {},
   "outputs": [],
   "source": [
    "from tkinter import *\n",
    "\n",
    "root = Tk()\n",
    "\n",
    "e = Entry(root)\n",
    "e.pack()\n",
    "e.insert(0, \"Enter your Name\")\n",
    "\n",
    "def myClick():\n",
    "    hello = \"Hello \" + e.get()\n",
    "    myLabel = Label(root,text=hello)\n",
    "    myLabel.pack()\n",
    "\n",
    "myButton = Button(root,text=\"Enter your name\",command=myClick)\n",
    "myButton.pack()\n",
    "\n",
    "root.mainloop()\n",
    "    "
   ]
  },
  {
   "cell_type": "markdown",
   "id": "d6ed0de4",
   "metadata": {},
   "source": [
    "### Simple Calculator"
   ]
  },
  {
   "cell_type": "code",
   "execution_count": 1,
   "id": "f75cefc6",
   "metadata": {},
   "outputs": [],
   "source": [
    "from tkinter import *\n",
    "\n",
    "root = Tk()\n",
    "\n",
    "e = Entry(root, width=35, borderwidth=5)\n",
    "e.grid(row=0,column=0, columnspan=3, padx=10, pady=10)\n",
    "\n",
    "def button_add():\n",
    "    return\n",
    "\n",
    "button_1 = Button(root,text=\"1\",  padx=40, pady= 20, command=button_add)\n",
    "button_2 = Button(root,text=\"2\",  padx=40, pady= 20, command=button_add)\n",
    "button_3 = Button(root,text=\"3\",  padx=40, pady= 20, command=button_add)\n",
    "button_4 = Button(root,text=\"4\",  padx=40, pady= 20, command=button_add)\n",
    "button_5 = Button(root,text=\"5\",  padx=40, pady= 20, command=button_add)\n",
    "button_6 = Button(root,text=\"6\",  padx=40, pady= 20, command=button_add)\n",
    "button_7 = Button(root,text=\"7\",  padx=40, pady= 20, command=button_add)\n",
    "button_8 = Button(root,text=\"8\",  padx=40, pady= 20, command=button_add)\n",
    "button_9 = Button(root,text=\"9\",  padx=40, pady= 20, command=button_add)\n",
    "button_0 = Button(root,text=\"0\",  padx=40, pady= 20, command=button_add)\n",
    "button_add = Button(root,text=\"+\",  padx=40, pady= 20, command=button_add)\n",
    "button_equal = Button(root,text=\"=\",  padx=90, pady= 20, command=button_add)\n",
    "button_clear = Button(root,text=\"Clear\",  padx=79, pady= 20, command=button_add)\n",
    "\n",
    "\n",
    "#put buttons on the screen\n",
    "button_1.grid(row=3, column=0)\n",
    "button_2.grid(row=3, column=1)\n",
    "button_3.grid(row=3, column=2)\n",
    "\n",
    "button_4.grid(row=2, column=0)\n",
    "button_5.grid(row=2, column=1)\n",
    "button_6.grid(row=2, column=2)\n",
    "\n",
    "button_7.grid(row=1 , column=0)\n",
    "button_8.grid(row=1, column=1)\n",
    "button_9.grid(row=1, column=2)\n",
    "\n",
    "button_0.grid(row=4, column=0)\n",
    "button_clear.grid(row=4, column=1 ,columnspan=2)\n",
    "button_add.grid(row=5, column=0)\n",
    "button_equal.grid(row=5, column=1,columnspan=2)\n",
    "\n",
    "root.mainloop()\n",
    "    "
   ]
  },
  {
   "cell_type": "code",
   "execution_count": null,
   "id": "c850fccf",
   "metadata": {},
   "outputs": [],
   "source": []
  },
  {
   "cell_type": "code",
   "execution_count": null,
   "id": "d47a6593",
   "metadata": {},
   "outputs": [],
   "source": []
  },
  {
   "cell_type": "code",
   "execution_count": null,
   "id": "442d2904",
   "metadata": {},
   "outputs": [],
   "source": []
  },
  {
   "cell_type": "code",
   "execution_count": null,
   "id": "d5d23c6c",
   "metadata": {},
   "outputs": [],
   "source": []
  }
 ],
 "metadata": {
  "kernelspec": {
   "display_name": "Python 3 (ipykernel)",
   "language": "python",
   "name": "python3"
  },
  "language_info": {
   "codemirror_mode": {
    "name": "ipython",
    "version": 3
   },
   "file_extension": ".py",
   "mimetype": "text/x-python",
   "name": "python",
   "nbconvert_exporter": "python",
   "pygments_lexer": "ipython3",
   "version": "3.10.6"
  }
 },
 "nbformat": 4,
 "nbformat_minor": 5
}
